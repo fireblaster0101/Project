{
 "cells": [
  {
   "cell_type": "code",
   "execution_count": 1,
   "id": "91fa6a27",
   "metadata": {},
   "outputs": [],
   "source": [
    "import requests\n",
    "from bs4 import BeautifulSoup\n",
    "import csv"
   ]
  },
  {
   "cell_type": "code",
   "execution_count": 2,
   "id": "0d6c8422",
   "metadata": {},
   "outputs": [],
   "source": [
    "#pip install --user -U nltk\n"
   ]
  },
  {
   "cell_type": "code",
   "execution_count": 3,
   "id": "0db5a25f",
   "metadata": {},
   "outputs": [
    {
     "name": "stderr",
     "output_type": "stream",
     "text": [
      "[nltk_data] Error loading vader_lexicon: <urlopen error [WinError\n",
      "[nltk_data]     10054] An existing connection was forcibly closed by\n",
      "[nltk_data]     the remote host>\n"
     ]
    }
   ],
   "source": [
    "import pandas as pd\n",
    "from datetime import datetime\n",
    "import nltk\n",
    "nltk.download('vader_lexicon')\n",
    "from nltk.sentiment.vader import SentimentIntensityAnalyzer\n",
    "analyser = SentimentIntensityAnalyzer()"
   ]
  },
  {
   "cell_type": "code",
   "execution_count": 4,
   "id": "d5d4bb99",
   "metadata": {},
   "outputs": [],
   "source": [
    "#"
   ]
  },
  {
   "cell_type": "code",
   "execution_count": 5,
   "id": "cc8ecbdb",
   "metadata": {},
   "outputs": [],
   "source": [
    "url = \"https://economictimes.indiatimes.com/reliance-industries-ltd/stocksupdate/companyid-20316.cms\"\n",
    "request = requests.get(url) \n",
    "soup_page = BeautifulSoup(request.content, 'html.parser') \n",
    "  \n",
    "quotes = []\n",
    "  \n",
    "search_div = soup_page.find('div', attrs = {'class':'all'}) \n",
    "search_class = search_div.findAll('div', attrs = {'class':'eachStory'})  \n",
    "for chunk in search_class: \n",
    "    quote = {} \n",
    "    text_heading = chunk.find('div', attrs = {'class':'headingText'})\n",
    "    text_date = chunk.find('div', attrs = {'class':'storyDate'})\n",
    "    quote['date'] = text_date.time.text\n",
    "    quote['text'] = text_heading.h3.text + '. ' + chunk.p.text\n",
    "    quotes.append(quote)"
   ]
  },
  {
   "cell_type": "code",
   "execution_count": 6,
   "id": "88e8dc65",
   "metadata": {},
   "outputs": [],
   "source": [
    "scores = []\n",
    "for quote in quotes:\n",
    "    score = {}\n",
    "    adj_date  = quote['date'].split(',')\n",
    "    yr = adj_date[1].split(' ')\n",
    "    if yr[0] != '':\n",
    "        score['date'] = adj_date[0] + ' ' + yr[0]\n",
    "        values = analyser.polarity_scores(quote['text'])\n",
    "        score['value'] = values['compound']\n",
    "        scores.append(score) "
   ]
  },
  {
   "cell_type": "code",
   "execution_count": 7,
   "id": "085e0f94",
   "metadata": {},
   "outputs": [],
   "source": [
    "lst = []\n",
    "for scr in scores:\n",
    "    tmp = {}\n",
    "    strg = scr['date']\n",
    "    dt = datetime.strptime(strg, '%d %b %Y')\n",
    "    tmp['date'] = dt.strftime('%Y-%m-%d')   \n",
    "    tmp['Sentiment'] = scr['value']\n",
    "    lst.append(tmp)\n",
    "\n",
    "dframe = pd.DataFrame(lst)\n",
    "df = dframe.groupby(\"date\").mean()\n",
    "\n",
    "df.to_csv('1.csv', index = True) "
   ]
  },
  {
   "cell_type": "code",
   "execution_count": 8,
   "id": "b732a6f9",
   "metadata": {},
   "outputs": [],
   "source": [
    "lst = []\n",
    "for scr in scores:\n",
    "    tmp = {}\n",
    "    strg = scr['date']\n",
    "    dt = datetime.strptime(strg, '%d %b %Y')\n",
    "    tmp['Date'] = dt.strftime('%Y-%m-%d')   \n",
    "    tmp['Sentiment'] = scr['value']\n",
    "    lst.append(tmp)\n",
    "\n",
    "dframe = pd.DataFrame(lst)\n",
    "df = dframe.groupby('Date').mean()\n",
    "\n",
    "df.to_csv('1.csv', index = True) "
   ]
  },
  {
   "cell_type": "code",
   "execution_count": null,
   "id": "63b8c262",
   "metadata": {},
   "outputs": [],
   "source": []
  },
  {
   "cell_type": "code",
   "execution_count": 9,
   "id": "77b90c77",
   "metadata": {},
   "outputs": [
    {
     "data": {
      "text/plain": [
       "40"
      ]
     },
     "execution_count": 9,
     "metadata": {},
     "output_type": "execute_result"
    }
   ],
   "source": [
    "len(quotes)"
   ]
  },
  {
   "cell_type": "code",
   "execution_count": null,
   "id": "c742f152",
   "metadata": {},
   "outputs": [],
   "source": []
  },
  {
   "cell_type": "code",
   "execution_count": null,
   "id": "3613bcae",
   "metadata": {},
   "outputs": [],
   "source": []
  }
 ],
 "metadata": {
  "kernelspec": {
   "display_name": "Python 3 (ipykernel)",
   "language": "python",
   "name": "python3"
  },
  "language_info": {
   "codemirror_mode": {
    "name": "ipython",
    "version": 3
   },
   "file_extension": ".py",
   "mimetype": "text/x-python",
   "name": "python",
   "nbconvert_exporter": "python",
   "pygments_lexer": "ipython3",
   "version": "3.11.0"
  }
 },
 "nbformat": 4,
 "nbformat_minor": 5
}
